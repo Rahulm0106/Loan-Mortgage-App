{
 "cells": [
  {
   "cell_type": "markdown",
   "metadata": {},
   "source": [
    "# Simulating a Mortgage Loan"
   ]
  },
  {
   "cell_type": "code",
   "execution_count": 1,
   "metadata": {},
   "outputs": [],
   "source": [
    "import numpy as np\n",
    "import pandas as pd\n",
    "import matplotlib.pyplot as plt"
   ]
  },
  {
   "cell_type": "markdown",
   "metadata": {},
   "source": [
    "> DeprecationWarning: numpy.pmt is deprecated and will be removed from NumPy 1.20. Use numpy_financial.pmt instead https://pypi.org/project/numpy-financial/\n",
    "* This is added back by InteractiveShellApp.init_path()"
   ]
  },
  {
   "cell_type": "code",
   "execution_count": 2,
   "metadata": {},
   "outputs": [],
   "source": [
    "# !pip install numpy_financial"
   ]
  },
  {
   "cell_type": "code",
   "execution_count": 3,
   "metadata": {},
   "outputs": [],
   "source": [
    "import numpy_financial as npf"
   ]
  },
  {
   "cell_type": "markdown",
   "metadata": {},
   "source": [
    "## Mortgage Basics"
   ]
  },
  {
   "cell_type": "markdown",
   "metadata": {},
   "source": [
    "### Taking out a mortgage loan\n",
    "You're expecting a child soon, and its time to start looking for a home.\n",
    "\n",
    "You're currently living out of an apartment in New York City, but your blossoming career as a Data Scientist has allowed you to save up a sizable sum and purchase a home in neighboring Hoboken, New Jersey.\n",
    "\n",
    "You have decided to purchase a beautiful brownstone home in the $800,000 range. While you do have a considerable amount of cash on hand, you don't have enough to purchase the entire home outright, which means you will have to take the remaining balance out as a mortgage loan. From the sound of it, you'll have to put about 20% down up-front to a mortgage loan of that size.\n",
    "\n",
    "This up-front payment is known as a down payment."
   ]
  },
  {
   "cell_type": "code",
   "execution_count": 4,
   "metadata": {},
   "outputs": [],
   "source": [
    "# Set the value of the home you are looking to buy\n",
    "home_value = 800000\n",
    "\n",
    "# What percentage are you paying up-front?\n",
    "down_payment_percent = 0.2\n",
    "\n",
    "# Set the mortgage rate\n",
    "mortgage_rate = 0.0375\n",
    "\n",
    "# Set number of years of loan\n",
    "years = 30\n",
    "\n",
    "# Set payment schedule (monthly)\n",
    "schedule = 12"
   ]
  },
  {
   "cell_type": "markdown",
   "metadata": {},
   "source": [
    "### Calculating the monthly mortgage payment\n",
    "In order to make sure you can afford the home, you will have to calculate the monthly mortgage payment you will have to make on a loan that size.\n",
    "\n",
    "Now, since you will be paying a monthly mortgage, you will have to convert each of the parameters into their monthly equivalents. Be careful when adjusting the interest rate, which is compounding!\n",
    "\n",
    "In order to calculate the monthly mortgage payment, you will use the numpy function .pmt(rate, nper, pv) where:\n",
    "\n",
    "* rate = The periodic (monthly) interest rate\n",
    "* nper = The number of payment periods (months) in the lifespan of the mortgage loan\n",
    "* pv = The total value of the mortgage loan"
   ]
  },
  {
   "cell_type": "code",
   "execution_count": 5,
   "metadata": {},
   "outputs": [
    {
     "name": "stdout",
     "output_type": "stream",
     "text": [
      "Initial Down Payment: 160000.0\n",
      "Mortgage Loan: 640000.0\n",
      "Monthly Mortgage Payment: 2941.13\n"
     ]
    }
   ],
   "source": [
    "# Calculate the dollar value of the down payment\n",
    "down_payment = home_value * down_payment_percent\n",
    "print(\"Initial Down Payment: \" + str(down_payment))\n",
    "\n",
    "# Calculate the value of the mortgage loan required after the down payment\n",
    "mortgage_loan = home_value - down_payment\n",
    "print(\"Mortgage Loan: \" + str(mortgage_loan))\n",
    "\n",
    "# Derive the equivalent monthly mortgage rate from the annual rate\n",
    "mortgage_rate_periodic = ((1+mortgage_rate)**(1/schedule) - 1)\n",
    "\n",
    "# How many monthly payment periods will there be over 30 years?\n",
    "mortgage_payment_periods = schedule*years\n",
    "\n",
    "# Calculate the monthly mortgage payment (multiply by -1 to keep it positive)\n",
    "periodic_mortgage_payment = -1*npf.pmt(rate=mortgage_rate_periodic, nper=mortgage_payment_periods, pv=mortgage_loan)\n",
    "print(\"Monthly Mortgage Payment: \" + str(round(periodic_mortgage_payment, 2)))"
   ]
  },
  {
   "cell_type": "markdown",
   "metadata": {},
   "source": [
    "## Amortization, Interest and Principal Payments"
   ]
  },
  {
   "cell_type": "markdown",
   "metadata": {},
   "source": [
    "### Calculating interest and principal payments\n",
    "Due to the size of the mortgage loan, you begin the mortgage in the initial period by paying mostly interest and retaining very little principal, or equity that goes towards the ownership of your home.\n",
    "\n",
    "This means that if you were to stop paying your mortgage and sell your home after only a few years, the bank would actually own most of the home because what you paid was mostly interest, and very little principal."
   ]
  },
  {
   "cell_type": "code",
   "execution_count": 6,
   "metadata": {},
   "outputs": [
    {
     "name": "stdout",
     "output_type": "stream",
     "text": [
      "Initial Interest Payment: 1966.43\n",
      "Initial Principal Payment: 974.7\n"
     ]
    }
   ],
   "source": [
    "# Calculate the amount of the first loan payment that will go towards interest\n",
    "initial_interest_payment = mortgage_loan * mortgage_rate_periodic\n",
    "print(\"Initial Interest Payment: \" + str(round(initial_interest_payment, 2)))\n",
    "\n",
    "# Calculate the amount of the first loan payment that will go towards principal\n",
    "initial_principal_payment = periodic_mortgage_payment - initial_interest_payment\n",
    "print(\"Initial Principal Payment: \" + str(round(initial_principal_payment, 2)))"
   ]
  },
  {
   "cell_type": "markdown",
   "metadata": {},
   "source": [
    "### Simulating periodic payments (I)\n",
    "You have all the tools you'll need to simulate the mortgage payments over time.\n",
    "\n",
    "Every time a mortgage payment is made, the following payment will have a slightly lower percentage, which is used to pay off interest. This means that more of the remainder will go towards the portion of the home that you own instead of the bank. This is important to determine how much you will gain from selling the home before paying off your mortgage, or to determine when your mortgage is underwater. But more on that later.\n",
    "\n",
    "You will now write a simple program to calculate the interest and mortgage portions of each payment over time."
   ]
  },
  {
   "cell_type": "code",
   "execution_count": 7,
   "metadata": {},
   "outputs": [],
   "source": [
    "# Initialize principal_remaining variable is  as an array of 0's with length equal to the number of payment periods\n",
    "interest_paid = np.zeros(mortgage_payment_periods)\n",
    "principal_paid = np.zeros(mortgage_payment_periods)\n",
    "principal_remaining = np.zeros(mortgage_payment_periods)\n",
    "\n",
    "# Loop through each mortgage payment period\n",
    "for i in range(0, mortgage_payment_periods):\n",
    "    \n",
    "    # Handle the case for the first iteration\n",
    "    if i == 0:\n",
    "        previous_principal_remaining = mortgage_loan\n",
    "    else:\n",
    "        previous_principal_remaining = principal_remaining[i-1]\n",
    "        \n",
    "    # Calculate the interest and principal payments\n",
    "    interest_payment = round(previous_principal_remaining*mortgage_rate_periodic, 2)\n",
    "    principal_payment = round(periodic_mortgage_payment-interest_payment, 2)\n",
    "    \n",
    "    # Catch the case where all principal is paid off in the final period\n",
    "    if previous_principal_remaining - principal_payment < 0:\n",
    "        principal_payment = round(previous_principal_remaining,2)\n",
    "    \n",
    "    # Collect the historical values\n",
    "    interest_paid[i] = interest_payment\n",
    "    principal_paid[i] = principal_payment\n",
    "    principal_remaining[i] = previous_principal_remaining - principal_payment"
   ]
  },
  {
   "cell_type": "code",
   "execution_count": 8,
   "metadata": {},
   "outputs": [
    {
     "name": "stdout",
     "output_type": "stream",
     "text": [
      "Interest:  1966.43  | Principal:  974.7  | Period:  1\n",
      "Interest:  1963.43  | Principal:  977.7  | Period:  2\n",
      "Interest:  1960.43  | Principal:  980.7  | Period:  3\n",
      "Interest:  1957.41  | Principal:  983.72  | Period:  4\n",
      "Interest:  1954.39  | Principal:  986.74  | Period:  5\n",
      "---------------------------------------------------------\n",
      "Interest:  44.76  | Principal:  2896.37  | Period:  356\n",
      "Interest:  35.86  | Principal:  2905.27  | Period:  357\n",
      "Interest:  26.94  | Principal:  2914.19  | Period:  358\n",
      "Interest:  17.98  | Principal:  2923.15  | Period:  359\n",
      "Interest:  9.0  | Principal:  2929.2  | Period:  360\n"
     ]
    }
   ],
   "source": [
    "for i in range(5):\n",
    "    print(\"Interest: \", interest_paid[i], \" | Principal: \", principal_paid[i], \" | Period: \", i+1)\n",
    "    \n",
    "print(\"---------------------------------------------------------\")\n",
    "    \n",
    "for i in range(5):\n",
    "    print(\"Interest: \", interest_paid[i+355], \" | Principal: \", principal_paid[i+355], \" | Period: \", i+356)"
   ]
  },
  {
   "cell_type": "markdown",
   "metadata": {},
   "source": [
    "### Simulating periodic payments (II)\n",
    "You have decided to extend your program from the previous exercise to store the principal and interest payments made at each period, and to plot the results instead of simply printing them."
   ]
  },
  {
   "cell_type": "code",
   "execution_count": 9,
   "metadata": {},
   "outputs": [
    {
     "data": {
      "image/png": "[encoded data removed]",
      "text/plain": [
       "<Figure size 432x288 with 1 Axes>"
      ]
     },
     "metadata": {
      "needs_background": "light"
     },
     "output_type": "display_data"
    }
   ],
   "source": [
    "# Plot the interest vs principal\n",
    "plt.plot(interest_paid, color=\"red\")\n",
    "plt.plot(principal_paid, color=\"blue\")\n",
    "plt.legend(['Interest', 'Principal'])\n",
    "plt.show()"
   ]
  },
  {
   "cell_type": "markdown",
   "metadata": {},
   "source": [
    "## Home Ownership, Equity and Forecasting"
   ]
  },
  {
   "cell_type": "markdown",
   "metadata": {},
   "source": [
    "### Cumulative payments and home equity\n",
    "You are faithfully paying your mortgage each month, but it's difficult to tell how much of the house you actually own and how much interest you have paid in total over the years.\n",
    "\n",
    "Use np.cumsum() to add up all the interest payments and also to add up all the principal payments over time to see how your ownership changes over time.\n",
    "\n",
    "Recall that np.cumsum() performs a cumulative sum over time. Return a series of iterative sums instead of just a single number."
   ]
  },
  {
   "cell_type": "code",
   "execution_count": 10,
   "metadata": {},
   "outputs": [],
   "source": [
    "# Calculate the cumulative home equity (principal) over time\n",
    "cumulative_home_equity = np.cumsum(principal_paid)\n",
    "\n",
    "# Calculate the cumulative interest paid over time\n",
    "cumulative_interest_paid = np.cumsum(interest_paid)\n",
    "\n",
    "# Calculate your percentage home equity over time\n",
    "cumulative_percent_owned = down_payment_percent + (cumulative_home_equity/home_value)"
   ]
  },
  {
   "cell_type": "code",
   "execution_count": 11,
   "metadata": {},
   "outputs": [
    {
     "name": "stdout",
     "output_type": "stream",
     "text": [
      "Percent Owned:  0.2012  | Period:  1\n",
      "Percent Owned:  0.2024  | Period:  2\n",
      "Percent Owned:  0.2037  | Period:  3\n",
      "Percent Owned:  0.2049  | Period:  4\n",
      "Percent Owned:  0.2061  | Period:  5\n",
      "---------------------------------------------------------\n",
      "Percent Owned:  0.9854  | Period:  356\n",
      "Percent Owned:  0.989  | Period:  357\n",
      "Percent Owned:  0.9927  | Period:  358\n",
      "Percent Owned:  0.9963  | Period:  359\n",
      "Percent Owned:  1.0  | Period:  360\n"
     ]
    }
   ],
   "source": [
    "for i in range(5):\n",
    "    print(\"Percent Owned: \", round(cumulative_percent_owned[i], 4), \" | Period: \", i+1)\n",
    "    \n",
    "print(\"---------------------------------------------------------\")\n",
    "    \n",
    "for i in range(5):\n",
    "    print(\"Percent Owned: \", round(cumulative_percent_owned[i+355], 4), \" | Period: \", i+356)"
   ]
  },
  {
   "cell_type": "code",
   "execution_count": 12,
   "metadata": {},
   "outputs": [
    {
     "data": {
      "image/png": "[encoded data removed]",
      "text/plain": [
       "<Figure size 432x288 with 1 Axes>"
      ]
     },
     "metadata": {
      "needs_background": "light"
     },
     "output_type": "display_data"
    }
   ],
   "source": [
    "# Plot the cumulative interest paid vs equity accumulated\n",
    "plt.plot(cumulative_interest_paid, color='red')\n",
    "plt.plot(cumulative_home_equity, color='blue')\n",
    "plt.legend(['Interest', 'Principal'])\n",
    "plt.show()"
   ]
  },
  {
   "cell_type": "markdown",
   "metadata": {},
   "source": [
    "### Rising housing prices\n",
    "Home values have been rising steadily each year, and this is a rather large investment for you.\n",
    "\n",
    "Calculate your home equity value over time given a steady growth rate of 0.25% per month. A repeated array of this growth rate (with a length equal to the number of mortgage payment periods) is already stored for you in an object called growth_array."
   ]
  },
  {
   "cell_type": "code",
   "execution_count": 13,
   "metadata": {},
   "outputs": [],
   "source": [
    "# Set yearly growth percent\n",
    "growth_percent = 0.0025\n",
    "\n",
    "growth_array = np.zeros(mortgage_payment_periods) + growth_percent"
   ]
  },
  {
   "cell_type": "code",
   "execution_count": 14,
   "metadata": {},
   "outputs": [],
   "source": [
    "# Calculate the cumulative growth over time\n",
    "cumulative_growth_forecast = np.cumprod(1 + growth_array)\n",
    "\n",
    "# Forecast the home value over time\n",
    "home_value_forecast = home_value * cumulative_growth_forecast\n",
    "\n",
    "# Forecast the home equity value owned over time\n",
    "cumulative_home_value_owned = home_value_forecast * cumulative_percent_owned"
   ]
  },
  {
   "cell_type": "code",
   "execution_count": 15,
   "metadata": {},
   "outputs": [
    {
     "data": {
      "image/png": "[encoded data removed]",
      "text/plain": [
       "<Figure size 432x288 with 1 Axes>"
      ]
     },
     "metadata": {
      "needs_background": "light"
     },
     "output_type": "display_data"
    }
   ],
   "source": [
    "# Plot the home value vs equity accumulated\n",
    "plt.plot(home_value_forecast, color='red')\n",
    "plt.plot(cumulative_home_value_owned, color='blue')\n",
    "plt.legend(['Home Value', 'Home Equity'])\n",
    "plt.show()"
   ]
  },
  {
   "cell_type": "markdown",
   "metadata": {},
   "source": [
    "### Falling housing prices and underwater mortgages\n",
    "Unfortunately, you are also well aware that home prices don't always rise.\n",
    "\n",
    "An underwater mortgage is when the remaining amount you owe on your mortgage is actually higher than the value of the house itself.\n",
    "\n",
    "In this exercise, you will calculate the worst case scenario where home prices drop steadily at the rate of 0.45% per month. To speed things up, the cumulative drop in home prices has already been forecasted and stored for you in a variable called cumulative_decline_forecast, which is an array of multiplicative discount factors compared to today's price - no need to add 1 to the rate array."
   ]
  },
  {
   "cell_type": "code",
   "execution_count": 16,
   "metadata": {},
   "outputs": [],
   "source": [
    "# Set yearly decline percent\n",
    "decline_percent = -0.0045\n",
    "\n",
    "decline_array = np.zeros(mortgage_payment_periods) + decline_percent"
   ]
  },
  {
   "cell_type": "code",
   "execution_count": 17,
   "metadata": {},
   "outputs": [
    {
     "data": {
      "text/plain": [
       "True     180\n",
       "False    180\n",
       "dtype: int64"
      ]
     },
     "execution_count": 17,
     "metadata": {},
     "output_type": "execute_result"
    }
   ],
   "source": [
    "# Cumulative drop in home value over time as a ratio\n",
    "cumulative_decline_forecast = np.cumprod(1+decline_array)\n",
    " \n",
    "# Forecast the home value over time\n",
    "home_value_forecast = home_value * cumulative_decline_forecast\n",
    " \n",
    "# Find all periods where your mortgage is underwater\n",
    "underwater = home_value_forecast < principal_remaining\n",
    "pd.value_counts(underwater)"
   ]
  },
  {
   "cell_type": "code",
   "execution_count": 18,
   "metadata": {},
   "outputs": [
    {
     "data": {
      "image/png": "[encoded data removed]",
      "text/plain": [
       "<Figure size 432x288 with 1 Axes>"
      ]
     },
     "metadata": {
      "needs_background": "light"
     },
     "output_type": "display_data"
    }
   ],
   "source": [
    "# Plot the home value vs principal remaining\n",
    "plt.plot(home_value_forecast, color='red')\n",
    "plt.plot(principal_remaining, color='blue')\n",
    "plt.legend(['Home Value', 'Home Equity'])\n",
    "plt.show()"
   ]
  }
 ],
 "metadata": {
  "kernelspec": {
   "display_name": "Python 3",
   "language": "python",
   "name": "python3"
  },
  "language_info": {
   "codemirror_mode": {
    "name": "ipython",
    "version": 3
   },
   "file_extension": ".py",
   "mimetype": "text/x-python",
   "name": "python",
   "nbconvert_exporter": "python",
   "pygments_lexer": "ipython3",
   "version": "3.7.6"
  }
 },
 "nbformat": 4,
 "nbformat_minor": 4
}